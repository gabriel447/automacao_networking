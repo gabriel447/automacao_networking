{
 "cells": [
  {
   "cell_type": "code",
   "execution_count": 9,
   "id": "1cfa5995",
   "metadata": {},
   "outputs": [],
   "source": [
    "from selenium import webdriver"
   ]
  },
  {
   "cell_type": "code",
   "execution_count": 10,
   "id": "7166eb8d",
   "metadata": {},
   "outputs": [],
   "source": [
    "site = 'https://www.uol.com.br';"
   ]
  },
  {
   "cell_type": "code",
   "execution_count": 11,
   "id": "068e9872",
   "metadata": {},
   "outputs": [],
   "source": [
    "navegador = webdriver.Chrome();\n",
    "navegador.get(site);\n",
    "navegador.maximize_window();"
   ]
  }
 ],
 "metadata": {
  "kernelspec": {
   "display_name": "Python 3 (ipykernel)",
   "language": "python",
   "name": "python3"
  },
  "language_info": {
   "codemirror_mode": {
    "name": "ipython",
    "version": 3
   },
   "file_extension": ".py",
   "mimetype": "text/x-python",
   "name": "python",
   "nbconvert_exporter": "python",
   "pygments_lexer": "ipython3",
   "version": "3.10.9"
  }
 },
 "nbformat": 4,
 "nbformat_minor": 5
}
