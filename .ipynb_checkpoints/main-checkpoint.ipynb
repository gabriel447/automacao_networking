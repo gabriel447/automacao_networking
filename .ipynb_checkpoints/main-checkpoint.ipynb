{
 "cells": [
  {
   "cell_type": "code",
   "execution_count": 30,
   "id": "1cfa5995",
   "metadata": {},
   "outputs": [],
   "source": [
    "from selenium import webdriver\n",
    "import time\n",
    "import pandas as pd"
   ]
  },
  {
   "cell_type": "code",
   "execution_count": 31,
   "id": "7166eb8d",
   "metadata": {},
   "outputs": [],
   "source": [
    "with open('C:/Users/Gabe/Desktop/sites.txt', 'r') as file:\n",
    "    sites = file.read().splitlines()\n",
    "    \n",
    "    driver = webdriver.Chrome()\n",
    "\n",
    "    conexoes = []\n",
    "\n",
    "for site in sites:\n",
    "    driver.get(site)\n",
    "    time.sleep(5)\n",
    "    \n",
    "    entries = driver.execute_script(\"return window.performance.getEntriesByType('resource');\")\n",
    "    \n",
    "    for entry in entries:\n",
    "        url = entry['name']\n",
    "        url = url.split('/')[2] + '/*'\n",
    "        conexoes.append({'Site': site, 'Conexão': url})\n",
    "\n",
    "driver.quit()\n",
    "\n",
    "df = pd.DataFrame(conexoes)\n",
    "\n",
    "df.to_excel('C:/Users/Gabe/Desktop/saida.xlsx', index=False)\n",
    "\n",
    "# no o arquivo de entrada é preciso colocar cada site em uma linha, \n",
    "# com https:// e não pode ter / no final da url,\n",
    "# ex: https://www.apple.com"
   ]
  }
 ],
 "metadata": {
  "kernelspec": {
   "display_name": "Python 3 (ipykernel)",
   "language": "python",
   "name": "python3"
  },
  "language_info": {
   "codemirror_mode": {
    "name": "ipython",
    "version": 3
   },
   "file_extension": ".py",
   "mimetype": "text/x-python",
   "name": "python",
   "nbconvert_exporter": "python",
   "pygments_lexer": "ipython3",
   "version": "3.10.9"
  }
 },
 "nbformat": 4,
 "nbformat_minor": 5
}
